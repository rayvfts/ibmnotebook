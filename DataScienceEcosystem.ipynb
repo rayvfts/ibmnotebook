{
 "cells": [
  {
   "cell_type": "markdown",
   "id": "56aa4083",
   "metadata": {},
   "source": [
    "# Data Science Tools and Ecosystem"
   ]
  },
  {
   "cell_type": "markdown",
   "id": "a85b408e",
   "metadata": {},
   "source": [
    "In this notebook, Data Science Tools and Ecosystem are summarized."
   ]
  },
  {
   "cell_type": "markdown",
   "id": "e3d5a862",
   "metadata": {},
   "source": [
    "1. Python\n",
    "2. R \n",
    "3. Javascript\n",
    "4. C++"
   ]
  },
  {
   "cell_type": "markdown",
   "id": "80376792",
   "metadata": {},
   "source": [
    "### Some of the commonly used libraries used by Data Scientists include:\n",
    "1. Pytorch\n",
    "2. SciPy\n",
    "3. TensorFlow"
   ]
  },
  {
   "cell_type": "markdown",
   "id": "14e753d8",
   "metadata": {},
   "source": [
    "| Data Science Tools|\n",
    "|-------------------|\n",
    "| Rstudio |\n",
    "|Apache Spark|\n",
    "|Git/Github|"
   ]
  },
  {
   "cell_type": "code",
   "execution_count": null,
   "id": "98dbbb7e",
   "metadata": {},
   "outputs": [],
   "source": [
    "### Below are a few examples of evaluating arithmetic expressions in Python\n",
    "1. Addition 1+2\n",
    "2. Subtraction 3-2\n",
    "3. Multiplication 4*2"
   ]
  },
  {
   "cell_type": "code",
   "execution_count": null,
   "id": "64fa2216",
   "metadata": {},
   "outputs": [],
   "source": [
    "This a simple arithmetic expression to mutiply then add integers"
   ]
  },
  {
   "cell_type": "code",
   "execution_count": 2,
   "id": "670fe93d",
   "metadata": {},
   "outputs": [
    {
     "data": {
      "text/plain": [
       "17"
      ]
     },
     "execution_count": 2,
     "metadata": {},
     "output_type": "execute_result"
    }
   ],
   "source": [
    "(3*4)+5"
   ]
  },
  {
   "cell_type": "code",
   "execution_count": null,
   "id": "556f9c97",
   "metadata": {},
   "outputs": [],
   "source": [
    "This will convert 200 minutes to hours by diving by 60"
   ]
  },
  {
   "cell_type": "code",
   "execution_count": 3,
   "id": "5de8aeea",
   "metadata": {},
   "outputs": [
    {
     "data": {
      "text/plain": [
       "3.3333333333333335"
      ]
     },
     "execution_count": 3,
     "metadata": {},
     "output_type": "execute_result"
    }
   ],
   "source": [
    "200/60"
   ]
  },
  {
   "cell_type": "markdown",
   "id": "5d541731",
   "metadata": {},
   "source": [
    " **Objectives: List popular languages for Data Science**\n",
    " - Python\n",
    " - R\n",
    " - c++"
   ]
  },
  {
   "cell_type": "markdown",
   "id": "b9bc74c4",
   "metadata": {},
   "source": [
    "## Author\n",
    "Raymond Rapaglia"
   ]
  }
 ],
 "metadata": {
  "kernelspec": {
   "display_name": "Python 3 (ipykernel)",
   "language": "python",
   "name": "python3"
  },
  "language_info": {
   "codemirror_mode": {
    "name": "ipython",
    "version": 3
   },
   "file_extension": ".py",
   "mimetype": "text/x-python",
   "name": "python",
   "nbconvert_exporter": "python",
   "pygments_lexer": "ipython3",
   "version": "3.11.5"
  }
 },
 "nbformat": 4,
 "nbformat_minor": 5
}
